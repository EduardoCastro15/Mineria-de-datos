{
  "nbformat": 4,
  "nbformat_minor": 0,
  "metadata": {
    "colab": {
      "name": "5 - ReglasAsociacion.ipynb",
      "provenance": []
    },
    "kernelspec": {
      "name": "python3",
      "display_name": "Python 3"
    },
    "language_info": {
      "name": "python"
    }
  },
  "cells": [
    {
      "cell_type": "markdown",
      "source": [
        "***Carga de las bibliotecas***"
      ],
      "metadata": {
        "id": "17xJAULCcpBY"
      }
    },
    {
      "cell_type": "code",
      "execution_count": 16,
      "metadata": {
        "id": "htKTgnmHbqki"
      },
      "outputs": [],
      "source": [
        "import warnings\n",
        "import numpy as np\n",
        "import pandas as pd\n",
        "import seaborn as sns\n",
        "import matplotlib.pyplot as plt\n",
        "from pandas.plotting import parallel_coordinates\n",
        "from mlxtend.preprocessing import TransactionEncoder\n",
        "from mlxtend.frequent_patterns import apriori, association_rules\n",
        "warnings.filterwarnings('ignore')"
      ]
    },
    {
      "cell_type": "markdown",
      "source": [
        "***Carga del dataset***"
      ],
      "metadata": {
        "id": "KDYqaOvrc0DV"
      }
    },
    {
      "cell_type": "code",
      "source": [
        "df = pd.read_csv('/content/drive/MyDrive/ESCOM/8vo Semestre/Data Mining/Extraordinario/basket_analysis.csv')\n",
        "df.drop(df.columns[0],axis=1,inplace=True)"
      ],
      "metadata": {
        "id": "Fn6qxjFjcJlI"
      },
      "execution_count": 17,
      "outputs": []
    },
    {
      "cell_type": "markdown",
      "source": [
        "***Análisis del dataset***"
      ],
      "metadata": {
        "id": "wHRtVEWDc8dS"
      }
    },
    {
      "cell_type": "code",
      "source": [
        "df.shape"
      ],
      "metadata": {
        "colab": {
          "base_uri": "https://localhost:8080/"
        },
        "id": "sogVGED0cfb6",
        "outputId": "7f47e840-87f7-4bb1-a918-02aaa2d204e9"
      },
      "execution_count": 18,
      "outputs": [
        {
          "output_type": "execute_result",
          "data": {
            "text/plain": [
              "(999, 16)"
            ]
          },
          "metadata": {},
          "execution_count": 18
        }
      ]
    },
    {
      "cell_type": "markdown",
      "source": [
        "Tenemos 999 canastas para calcular la recomendación de cada artículo que se vende en la tienda. Hay 16 artículos vendidos en la tienda."
      ],
      "metadata": {
        "id": "WUhr8LzQcjSJ"
      }
    },
    {
      "cell_type": "code",
      "source": [
        "df.mean()"
      ],
      "metadata": {
        "colab": {
          "base_uri": "https://localhost:8080/"
        },
        "id": "eHaGwDUlckbG",
        "outputId": "f5fa3742-4d3e-4ee8-a935-fa4feea11b69"
      },
      "execution_count": 19,
      "outputs": [
        {
          "output_type": "execute_result",
          "data": {
            "text/plain": [
              "Apple           0.383383\n",
              "Bread           0.384384\n",
              "Butter          0.420420\n",
              "Cheese          0.404404\n",
              "Corn            0.407407\n",
              "Dill            0.398398\n",
              "Eggs            0.384384\n",
              "Ice cream       0.410410\n",
              "Kidney Beans    0.408408\n",
              "Milk            0.405405\n",
              "Nutmeg          0.401401\n",
              "Onion           0.403403\n",
              "Sugar           0.409409\n",
              "Unicorn         0.389389\n",
              "Yogurt          0.420420\n",
              "chocolate       0.421421\n",
              "dtype: float64"
            ]
          },
          "metadata": {},
          "execution_count": 19
        }
      ]
    },
    {
      "cell_type": "markdown",
      "source": [
        "La transacción de venta o el recuento de cada artículo único aproximadamente para esta muestra. Nos sumergiremos y veremos si hay alguna diferencia o correlación entre las canastas. Dado que el marco de datos ya está tabulado como un marco de datos activo, de inmediato usaremos el conjunto de datos que se analizará con apriori."
      ],
      "metadata": {
        "id": "io3UKeA8dLMy"
      }
    },
    {
      "cell_type": "markdown",
      "source": [
        "***Algoritmo APRIORI***"
      ],
      "metadata": {
        "id": "xyZ44pnadSub"
      }
    },
    {
      "cell_type": "markdown",
      "source": [
        "Breve introducción a los antecedentes del algoritmo Apriori. El algoritmo asume que cualquier subconjunto de un conjunto de elementos frecuentes debe ser frecuente. Digamos que en nuestros casos, donde {manzana, unicornio, yogur} es frecuente, entonces {manzana, yogur} es frecuente. Mientras que {manzana, unicornio} no es frecuente, entonces {manzana, unicornio, yogur} no es frecuente.\n",
        "\n",
        "*  APOYO = Una forma simple de controlar la complejidad es imponer una restricción que dichas reglas deben aplicar a un porcentaje mínimo de los datos.\n",
        "CONFIANZA = La probabilidad de que B ocurra cuando A; es p (B | A), que en asociación minera.\n",
        "*   LIFT = la co-ocurrencia de A y B es la probabilidad de que realmente veamos los dos juntos, en comparación con la probabilidad de que los veamos juntos si no estuvieran relacionados (independientes) entre sí.\n",
        "*   APALANCAMIENTO = alternativa es mirar la diferencia entre estas cantidades en lugar de su relación.\n",
        "*   CONVICCIÓN = medida para determinar la dirección de la regla. A diferencia de la elevación, la convicción es sensible a la dirección de la regla.\n",
        "\n",
        "Solo el apoyo y la confianza como parámetro pueden ser engañosos para los artículos que son demasiado comunes / populares en la canasta. Es más probable que los artículos populares formen parte de la misma canasta solo porque son populares en lugar de cualquier otra cosa.\n",
        "\n",
        "Establecemos el soporte mínimo en 0.06, el número máximo que se analiza en la canasta es 3. Estamos haciendo la primera poda y vemos qué obtenemos del resultado"
      ],
      "metadata": {
        "id": "8DeFofV8diB3"
      }
    },
    {
      "cell_type": "markdown",
      "source": [
        "***Calculo de conjuntos de elementos frecuentes utilizando el algoritmo Apriori***"
      ],
      "metadata": {
        "id": "BBS3Aw57eOoN"
      }
    },
    {
      "cell_type": "code",
      "source": [
        "frequent_itemsets = apriori(df,\n",
        "                            min_support = .006,\n",
        "                            max_len = 3,\n",
        "                            use_colnames = True)"
      ],
      "metadata": {
        "id": "TG3FINAodNrq"
      },
      "execution_count": 20,
      "outputs": []
    },
    {
      "cell_type": "markdown",
      "source": [
        "***Calculo de todas las reglas de asociación para frecuent_itemsets***"
      ],
      "metadata": {
        "id": "TdMxKLS0ehHY"
      }
    },
    {
      "cell_type": "code",
      "source": [
        "rules = association_rules(frequent_itemsets,\n",
        "                            metric = 'support',\n",
        "                            min_threshold=0.1)"
      ],
      "metadata": {
        "id": "V5rcrInoek0q"
      },
      "execution_count": 21,
      "outputs": []
    },
    {
      "cell_type": "code",
      "source": [
        "filtered_rules = rules[(rules['antecedent support'] > 0.02)&\n",
        "                        (rules['consequent support'] >0.01) &\n",
        "                        (rules['confidence'] > 0.2) &\n",
        "                        (rules['lift'] > 1.0)]"
      ],
      "metadata": {
        "id": "8EnMBAZCerTw"
      },
      "execution_count": 22,
      "outputs": []
    },
    {
      "cell_type": "code",
      "source": [
        "filtered_rules.sort_values('confidence',ascending=False)"
      ],
      "metadata": {
        "colab": {
          "base_uri": "https://localhost:8080/",
          "height": 423
        },
        "id": "uHrpy6Tretu9",
        "outputId": "0aac900d-082a-4235-8c11-c21e53664c17"
      },
      "execution_count": 23,
      "outputs": [
        {
          "output_type": "execute_result",
          "data": {
            "text/html": [
              "\n",
              "  <div id=\"df-430631b7-edcf-4bad-b97b-1695a21c51f5\">\n",
              "    <div class=\"colab-df-container\">\n",
              "      <div>\n",
              "<style scoped>\n",
              "    .dataframe tbody tr th:only-of-type {\n",
              "        vertical-align: middle;\n",
              "    }\n",
              "\n",
              "    .dataframe tbody tr th {\n",
              "        vertical-align: top;\n",
              "    }\n",
              "\n",
              "    .dataframe thead th {\n",
              "        text-align: right;\n",
              "    }\n",
              "</style>\n",
              "<table border=\"1\" class=\"dataframe\">\n",
              "  <thead>\n",
              "    <tr style=\"text-align: right;\">\n",
              "      <th></th>\n",
              "      <th>antecedents</th>\n",
              "      <th>consequents</th>\n",
              "      <th>antecedent support</th>\n",
              "      <th>consequent support</th>\n",
              "      <th>support</th>\n",
              "      <th>confidence</th>\n",
              "      <th>lift</th>\n",
              "      <th>leverage</th>\n",
              "      <th>conviction</th>\n",
              "    </tr>\n",
              "  </thead>\n",
              "  <tbody>\n",
              "    <tr>\n",
              "      <th>402</th>\n",
              "      <td>(Unicorn, Dill)</td>\n",
              "      <td>(chocolate)</td>\n",
              "      <td>0.168168</td>\n",
              "      <td>0.421421</td>\n",
              "      <td>0.101101</td>\n",
              "      <td>0.601190</td>\n",
              "      <td>1.426578</td>\n",
              "      <td>0.030231</td>\n",
              "      <td>1.450764</td>\n",
              "    </tr>\n",
              "    <tr>\n",
              "      <th>390</th>\n",
              "      <td>(Milk, Dill)</td>\n",
              "      <td>(chocolate)</td>\n",
              "      <td>0.190190</td>\n",
              "      <td>0.421421</td>\n",
              "      <td>0.114114</td>\n",
              "      <td>0.600000</td>\n",
              "      <td>1.423753</td>\n",
              "      <td>0.033964</td>\n",
              "      <td>1.446446</td>\n",
              "    </tr>\n",
              "    <tr>\n",
              "      <th>326</th>\n",
              "      <td>(Dill, Cheese)</td>\n",
              "      <td>(Onion)</td>\n",
              "      <td>0.177177</td>\n",
              "      <td>0.403403</td>\n",
              "      <td>0.102102</td>\n",
              "      <td>0.576271</td>\n",
              "      <td>1.428523</td>\n",
              "      <td>0.030628</td>\n",
              "      <td>1.407968</td>\n",
              "    </tr>\n",
              "    <tr>\n",
              "      <th>392</th>\n",
              "      <td>(Dill, chocolate)</td>\n",
              "      <td>(Milk)</td>\n",
              "      <td>0.199199</td>\n",
              "      <td>0.405405</td>\n",
              "      <td>0.114114</td>\n",
              "      <td>0.572864</td>\n",
              "      <td>1.413065</td>\n",
              "      <td>0.033358</td>\n",
              "      <td>1.392051</td>\n",
              "    </tr>\n",
              "    <tr>\n",
              "      <th>258</th>\n",
              "      <td>(Ice cream, Kidney Beans)</td>\n",
              "      <td>(Butter)</td>\n",
              "      <td>0.196196</td>\n",
              "      <td>0.420420</td>\n",
              "      <td>0.110110</td>\n",
              "      <td>0.561224</td>\n",
              "      <td>1.334913</td>\n",
              "      <td>0.027625</td>\n",
              "      <td>1.320902</td>\n",
              "    </tr>\n",
              "    <tr>\n",
              "      <th>...</th>\n",
              "      <td>...</td>\n",
              "      <td>...</td>\n",
              "      <td>...</td>\n",
              "      <td>...</td>\n",
              "      <td>...</td>\n",
              "      <td>...</td>\n",
              "      <td>...</td>\n",
              "      <td>...</td>\n",
              "      <td>...</td>\n",
              "    </tr>\n",
              "    <tr>\n",
              "      <th>323</th>\n",
              "      <td>(Butter)</td>\n",
              "      <td>(Nutmeg, Yogurt)</td>\n",
              "      <td>0.420420</td>\n",
              "      <td>0.192192</td>\n",
              "      <td>0.100100</td>\n",
              "      <td>0.238095</td>\n",
              "      <td>1.238839</td>\n",
              "      <td>0.019299</td>\n",
              "      <td>1.060248</td>\n",
              "    </tr>\n",
              "    <tr>\n",
              "      <th>287</th>\n",
              "      <td>(Butter)</td>\n",
              "      <td>(Unicorn, Ice cream)</td>\n",
              "      <td>0.420420</td>\n",
              "      <td>0.185185</td>\n",
              "      <td>0.100100</td>\n",
              "      <td>0.238095</td>\n",
              "      <td>1.285714</td>\n",
              "      <td>0.022244</td>\n",
              "      <td>1.069444</td>\n",
              "    </tr>\n",
              "    <tr>\n",
              "      <th>371</th>\n",
              "      <td>(Yogurt)</td>\n",
              "      <td>(Corn, Kidney Beans)</td>\n",
              "      <td>0.420420</td>\n",
              "      <td>0.195195</td>\n",
              "      <td>0.100100</td>\n",
              "      <td>0.238095</td>\n",
              "      <td>1.219780</td>\n",
              "      <td>0.018036</td>\n",
              "      <td>1.056306</td>\n",
              "    </tr>\n",
              "    <tr>\n",
              "      <th>321</th>\n",
              "      <td>(Yogurt)</td>\n",
              "      <td>(Nutmeg, Butter)</td>\n",
              "      <td>0.420420</td>\n",
              "      <td>0.198198</td>\n",
              "      <td>0.100100</td>\n",
              "      <td>0.238095</td>\n",
              "      <td>1.201299</td>\n",
              "      <td>0.016774</td>\n",
              "      <td>1.052365</td>\n",
              "    </tr>\n",
              "    <tr>\n",
              "      <th>376</th>\n",
              "      <td>(chocolate)</td>\n",
              "      <td>(Corn, Kidney Beans)</td>\n",
              "      <td>0.421421</td>\n",
              "      <td>0.195195</td>\n",
              "      <td>0.100100</td>\n",
              "      <td>0.237530</td>\n",
              "      <td>1.216883</td>\n",
              "      <td>0.017841</td>\n",
              "      <td>1.055523</td>\n",
              "    </tr>\n",
              "  </tbody>\n",
              "</table>\n",
              "<p>436 rows × 9 columns</p>\n",
              "</div>\n",
              "      <button class=\"colab-df-convert\" onclick=\"convertToInteractive('df-430631b7-edcf-4bad-b97b-1695a21c51f5')\"\n",
              "              title=\"Convert this dataframe to an interactive table.\"\n",
              "              style=\"display:none;\">\n",
              "        \n",
              "  <svg xmlns=\"http://www.w3.org/2000/svg\" height=\"24px\"viewBox=\"0 0 24 24\"\n",
              "       width=\"24px\">\n",
              "    <path d=\"M0 0h24v24H0V0z\" fill=\"none\"/>\n",
              "    <path d=\"M18.56 5.44l.94 2.06.94-2.06 2.06-.94-2.06-.94-.94-2.06-.94 2.06-2.06.94zm-11 1L8.5 8.5l.94-2.06 2.06-.94-2.06-.94L8.5 2.5l-.94 2.06-2.06.94zm10 10l.94 2.06.94-2.06 2.06-.94-2.06-.94-.94-2.06-.94 2.06-2.06.94z\"/><path d=\"M17.41 7.96l-1.37-1.37c-.4-.4-.92-.59-1.43-.59-.52 0-1.04.2-1.43.59L10.3 9.45l-7.72 7.72c-.78.78-.78 2.05 0 2.83L4 21.41c.39.39.9.59 1.41.59.51 0 1.02-.2 1.41-.59l7.78-7.78 2.81-2.81c.8-.78.8-2.07 0-2.86zM5.41 20L4 18.59l7.72-7.72 1.47 1.35L5.41 20z\"/>\n",
              "  </svg>\n",
              "      </button>\n",
              "      \n",
              "  <style>\n",
              "    .colab-df-container {\n",
              "      display:flex;\n",
              "      flex-wrap:wrap;\n",
              "      gap: 12px;\n",
              "    }\n",
              "\n",
              "    .colab-df-convert {\n",
              "      background-color: #E8F0FE;\n",
              "      border: none;\n",
              "      border-radius: 50%;\n",
              "      cursor: pointer;\n",
              "      display: none;\n",
              "      fill: #1967D2;\n",
              "      height: 32px;\n",
              "      padding: 0 0 0 0;\n",
              "      width: 32px;\n",
              "    }\n",
              "\n",
              "    .colab-df-convert:hover {\n",
              "      background-color: #E2EBFA;\n",
              "      box-shadow: 0px 1px 2px rgba(60, 64, 67, 0.3), 0px 1px 3px 1px rgba(60, 64, 67, 0.15);\n",
              "      fill: #174EA6;\n",
              "    }\n",
              "\n",
              "    [theme=dark] .colab-df-convert {\n",
              "      background-color: #3B4455;\n",
              "      fill: #D2E3FC;\n",
              "    }\n",
              "\n",
              "    [theme=dark] .colab-df-convert:hover {\n",
              "      background-color: #434B5C;\n",
              "      box-shadow: 0px 1px 3px 1px rgba(0, 0, 0, 0.15);\n",
              "      filter: drop-shadow(0px 1px 2px rgba(0, 0, 0, 0.3));\n",
              "      fill: #FFFFFF;\n",
              "    }\n",
              "  </style>\n",
              "\n",
              "      <script>\n",
              "        const buttonEl =\n",
              "          document.querySelector('#df-430631b7-edcf-4bad-b97b-1695a21c51f5 button.colab-df-convert');\n",
              "        buttonEl.style.display =\n",
              "          google.colab.kernel.accessAllowed ? 'block' : 'none';\n",
              "\n",
              "        async function convertToInteractive(key) {\n",
              "          const element = document.querySelector('#df-430631b7-edcf-4bad-b97b-1695a21c51f5');\n",
              "          const dataTable =\n",
              "            await google.colab.kernel.invokeFunction('convertToInteractive',\n",
              "                                                     [key], {});\n",
              "          if (!dataTable) return;\n",
              "\n",
              "          const docLinkHtml = 'Like what you see? Visit the ' +\n",
              "            '<a target=\"_blank\" href=https://colab.research.google.com/notebooks/data_table.ipynb>data table notebook</a>'\n",
              "            + ' to learn more about interactive tables.';\n",
              "          element.innerHTML = '';\n",
              "          dataTable['output_type'] = 'display_data';\n",
              "          await google.colab.output.renderOutput(dataTable, element);\n",
              "          const docLink = document.createElement('div');\n",
              "          docLink.innerHTML = docLinkHtml;\n",
              "          element.appendChild(docLink);\n",
              "        }\n",
              "      </script>\n",
              "    </div>\n",
              "  </div>\n",
              "  "
            ],
            "text/plain": [
              "                   antecedents           consequents  ...  leverage  conviction\n",
              "402            (Unicorn, Dill)           (chocolate)  ...  0.030231    1.450764\n",
              "390               (Milk, Dill)           (chocolate)  ...  0.033964    1.446446\n",
              "326             (Dill, Cheese)               (Onion)  ...  0.030628    1.407968\n",
              "392          (Dill, chocolate)                (Milk)  ...  0.033358    1.392051\n",
              "258  (Ice cream, Kidney Beans)              (Butter)  ...  0.027625    1.320902\n",
              "..                         ...                   ...  ...       ...         ...\n",
              "323                   (Butter)      (Nutmeg, Yogurt)  ...  0.019299    1.060248\n",
              "287                   (Butter)  (Unicorn, Ice cream)  ...  0.022244    1.069444\n",
              "371                   (Yogurt)  (Corn, Kidney Beans)  ...  0.018036    1.056306\n",
              "321                   (Yogurt)      (Nutmeg, Butter)  ...  0.016774    1.052365\n",
              "376                (chocolate)  (Corn, Kidney Beans)  ...  0.017841    1.055523\n",
              "\n",
              "[436 rows x 9 columns]"
            ]
          },
          "metadata": {},
          "execution_count": 23
        }
      ]
    },
    {
      "cell_type": "markdown",
      "source": [
        "***Generar confianza en gráficos de dispersión frente a soporte***"
      ],
      "metadata": {
        "id": "kc8z282Geyd-"
      }
    },
    {
      "cell_type": "code",
      "source": [
        "sns.scatterplot(x = \"support\", y = \"confidence\", data = filtered_rules)\n",
        "plt.show()"
      ],
      "metadata": {
        "colab": {
          "base_uri": "https://localhost:8080/",
          "height": 278
        },
        "id": "Vd7eUql3e4Dx",
        "outputId": "5afd6e78-5ae6-4076-e6ff-a4b7641c3715"
      },
      "execution_count": 24,
      "outputs": [
        {
          "output_type": "display_data",
          "data": {
            "image/png": "[encoded data removed]",
            "text/plain": [
              "<Figure size 432x288 with 1 Axes>"
            ]
          },
          "metadata": {
            "needs_background": "light"
          }
        }
      ]
    },
    {
      "cell_type": "markdown",
      "source": [
        "Con el diagrama de dispersión, podemos echar un vistazo rápido, dónde debería estar el límite y qué métrica debería establecerse para filtrar los conjuntos de elementos frecuentes."
      ],
      "metadata": {
        "id": "DgEHJqpmfGDe"
      }
    },
    {
      "cell_type": "code",
      "source": [
        "filtered_rules = rules[(rules['antecedent support'] > 0.02)&\n",
        "                        (rules['consequent support'] >0.01) &\n",
        "                        (rules['confidence'] > 0.45) &\n",
        "                        (rules['lift'] > 1.0)]"
      ],
      "metadata": {
        "id": "y8OKd0uDfHBx"
      },
      "execution_count": 25,
      "outputs": []
    },
    {
      "cell_type": "markdown",
      "source": [
        "***Generar confianza en gráficos de dispersión frente a soporte***"
      ],
      "metadata": {
        "id": "N5nmGUb7fQmE"
      }
    },
    {
      "cell_type": "code",
      "source": [
        "sns.scatterplot(x = \"support\", y = \"confidence\", size= 'leverage',data = filtered_rules)\n",
        "plt.legend(bbox_to_anchor= (1.02, 1), loc='upper left',)\n",
        "plt.show()"
      ],
      "metadata": {
        "colab": {
          "base_uri": "https://localhost:8080/",
          "height": 278
        },
        "id": "KQw11waafKQj",
        "outputId": "26f22865-6c39-47d6-93b5-298ea576b39a"
      },
      "execution_count": 26,
      "outputs": [
        {
          "output_type": "display_data",
          "data": {
            "image/png": "[encoded data removed]",
            "text/plain": [
              "<Figure size 432x288 with 1 Axes>"
            ]
          },
          "metadata": {
            "needs_background": "light"
          }
        }
      ]
    },
    {
      "cell_type": "markdown",
      "source": [
        "***Agregar texto en negrita otra regla adicional donde admita más de 0.2 para un conjunto de elementos dado***"
      ],
      "metadata": {
        "id": "F2H9NEsJfeIs"
      }
    },
    {
      "cell_type": "code",
      "source": [
        "filtered_rules = rules[(rules['antecedent support'] > 0.02)&\n",
        "                        (rules['consequent support'] >0.01) &\n",
        "                        (rules['confidence'] > 0.45) &\n",
        "                        (rules['lift'] > 1.0)&\n",
        "                        (rules['support']>0.195)]\n",
        "filtered_rules"
      ],
      "metadata": {
        "colab": {
          "base_uri": "https://localhost:8080/",
          "height": 1000
        },
        "id": "IS7vqPd6faD7",
        "outputId": "faba5228-2580-42ac-c821-15eb228c756c"
      },
      "execution_count": 27,
      "outputs": [
        {
          "output_type": "execute_result",
          "data": {
            "text/html": [
              "\n",
              "  <div id=\"df-01c60f6d-5c33-4e49-848e-d45623b91b5c\">\n",
              "    <div class=\"colab-df-container\">\n",
              "      <div>\n",
              "<style scoped>\n",
              "    .dataframe tbody tr th:only-of-type {\n",
              "        vertical-align: middle;\n",
              "    }\n",
              "\n",
              "    .dataframe tbody tr th {\n",
              "        vertical-align: top;\n",
              "    }\n",
              "\n",
              "    .dataframe thead th {\n",
              "        text-align: right;\n",
              "    }\n",
              "</style>\n",
              "<table border=\"1\" class=\"dataframe\">\n",
              "  <thead>\n",
              "    <tr style=\"text-align: right;\">\n",
              "      <th></th>\n",
              "      <th>antecedents</th>\n",
              "      <th>consequents</th>\n",
              "      <th>antecedent support</th>\n",
              "      <th>consequent support</th>\n",
              "      <th>support</th>\n",
              "      <th>confidence</th>\n",
              "      <th>lift</th>\n",
              "      <th>leverage</th>\n",
              "      <th>conviction</th>\n",
              "    </tr>\n",
              "  </thead>\n",
              "  <tbody>\n",
              "    <tr>\n",
              "      <th>66</th>\n",
              "      <td>(Ice cream)</td>\n",
              "      <td>(Butter)</td>\n",
              "      <td>0.410410</td>\n",
              "      <td>0.420420</td>\n",
              "      <td>0.207207</td>\n",
              "      <td>0.504878</td>\n",
              "      <td>1.200889</td>\n",
              "      <td>0.034662</td>\n",
              "      <td>1.170579</td>\n",
              "    </tr>\n",
              "    <tr>\n",
              "      <th>67</th>\n",
              "      <td>(Butter)</td>\n",
              "      <td>(Ice cream)</td>\n",
              "      <td>0.420420</td>\n",
              "      <td>0.410410</td>\n",
              "      <td>0.207207</td>\n",
              "      <td>0.492857</td>\n",
              "      <td>1.200889</td>\n",
              "      <td>0.034662</td>\n",
              "      <td>1.162571</td>\n",
              "    </tr>\n",
              "    <tr>\n",
              "      <th>68</th>\n",
              "      <td>(Kidney Beans)</td>\n",
              "      <td>(Butter)</td>\n",
              "      <td>0.408408</td>\n",
              "      <td>0.420420</td>\n",
              "      <td>0.202202</td>\n",
              "      <td>0.495098</td>\n",
              "      <td>1.177626</td>\n",
              "      <td>0.030499</td>\n",
              "      <td>1.147905</td>\n",
              "    </tr>\n",
              "    <tr>\n",
              "      <th>69</th>\n",
              "      <td>(Butter)</td>\n",
              "      <td>(Kidney Beans)</td>\n",
              "      <td>0.420420</td>\n",
              "      <td>0.408408</td>\n",
              "      <td>0.202202</td>\n",
              "      <td>0.480952</td>\n",
              "      <td>1.177626</td>\n",
              "      <td>0.030499</td>\n",
              "      <td>1.139764</td>\n",
              "    </tr>\n",
              "    <tr>\n",
              "      <th>70</th>\n",
              "      <td>(Milk)</td>\n",
              "      <td>(Butter)</td>\n",
              "      <td>0.405405</td>\n",
              "      <td>0.420420</td>\n",
              "      <td>0.198198</td>\n",
              "      <td>0.488889</td>\n",
              "      <td>1.162857</td>\n",
              "      <td>0.027757</td>\n",
              "      <td>1.133960</td>\n",
              "    </tr>\n",
              "    <tr>\n",
              "      <th>71</th>\n",
              "      <td>(Butter)</td>\n",
              "      <td>(Milk)</td>\n",
              "      <td>0.420420</td>\n",
              "      <td>0.405405</td>\n",
              "      <td>0.198198</td>\n",
              "      <td>0.471429</td>\n",
              "      <td>1.162857</td>\n",
              "      <td>0.027757</td>\n",
              "      <td>1.124909</td>\n",
              "    </tr>\n",
              "    <tr>\n",
              "      <th>72</th>\n",
              "      <td>(Nutmeg)</td>\n",
              "      <td>(Butter)</td>\n",
              "      <td>0.401401</td>\n",
              "      <td>0.420420</td>\n",
              "      <td>0.198198</td>\n",
              "      <td>0.493766</td>\n",
              "      <td>1.174457</td>\n",
              "      <td>0.029441</td>\n",
              "      <td>1.144884</td>\n",
              "    </tr>\n",
              "    <tr>\n",
              "      <th>73</th>\n",
              "      <td>(Butter)</td>\n",
              "      <td>(Nutmeg)</td>\n",
              "      <td>0.420420</td>\n",
              "      <td>0.401401</td>\n",
              "      <td>0.198198</td>\n",
              "      <td>0.471429</td>\n",
              "      <td>1.174457</td>\n",
              "      <td>0.029441</td>\n",
              "      <td>1.132484</td>\n",
              "    </tr>\n",
              "    <tr>\n",
              "      <th>74</th>\n",
              "      <td>(Onion)</td>\n",
              "      <td>(Butter)</td>\n",
              "      <td>0.403403</td>\n",
              "      <td>0.420420</td>\n",
              "      <td>0.197197</td>\n",
              "      <td>0.488834</td>\n",
              "      <td>1.162726</td>\n",
              "      <td>0.027598</td>\n",
              "      <td>1.133838</td>\n",
              "    </tr>\n",
              "    <tr>\n",
              "      <th>75</th>\n",
              "      <td>(Butter)</td>\n",
              "      <td>(Onion)</td>\n",
              "      <td>0.420420</td>\n",
              "      <td>0.403403</td>\n",
              "      <td>0.197197</td>\n",
              "      <td>0.469048</td>\n",
              "      <td>1.162726</td>\n",
              "      <td>0.027598</td>\n",
              "      <td>1.123635</td>\n",
              "    </tr>\n",
              "    <tr>\n",
              "      <th>76</th>\n",
              "      <td>(Sugar)</td>\n",
              "      <td>(Butter)</td>\n",
              "      <td>0.409409</td>\n",
              "      <td>0.420420</td>\n",
              "      <td>0.196196</td>\n",
              "      <td>0.479218</td>\n",
              "      <td>1.139853</td>\n",
              "      <td>0.024072</td>\n",
              "      <td>1.112902</td>\n",
              "    </tr>\n",
              "    <tr>\n",
              "      <th>77</th>\n",
              "      <td>(Butter)</td>\n",
              "      <td>(Sugar)</td>\n",
              "      <td>0.420420</td>\n",
              "      <td>0.409409</td>\n",
              "      <td>0.196196</td>\n",
              "      <td>0.466667</td>\n",
              "      <td>1.139853</td>\n",
              "      <td>0.024072</td>\n",
              "      <td>1.107357</td>\n",
              "    </tr>\n",
              "    <tr>\n",
              "      <th>82</th>\n",
              "      <td>(chocolate)</td>\n",
              "      <td>(Butter)</td>\n",
              "      <td>0.421421</td>\n",
              "      <td>0.420420</td>\n",
              "      <td>0.202202</td>\n",
              "      <td>0.479810</td>\n",
              "      <td>1.141262</td>\n",
              "      <td>0.025028</td>\n",
              "      <td>1.114169</td>\n",
              "    </tr>\n",
              "    <tr>\n",
              "      <th>83</th>\n",
              "      <td>(Butter)</td>\n",
              "      <td>(chocolate)</td>\n",
              "      <td>0.420420</td>\n",
              "      <td>0.421421</td>\n",
              "      <td>0.202202</td>\n",
              "      <td>0.480952</td>\n",
              "      <td>1.141262</td>\n",
              "      <td>0.025028</td>\n",
              "      <td>1.114693</td>\n",
              "    </tr>\n",
              "    <tr>\n",
              "      <th>92</th>\n",
              "      <td>(Cheese)</td>\n",
              "      <td>(Kidney Beans)</td>\n",
              "      <td>0.404404</td>\n",
              "      <td>0.408408</td>\n",
              "      <td>0.200200</td>\n",
              "      <td>0.495050</td>\n",
              "      <td>1.212143</td>\n",
              "      <td>0.035038</td>\n",
              "      <td>1.171583</td>\n",
              "    </tr>\n",
              "    <tr>\n",
              "      <th>93</th>\n",
              "      <td>(Kidney Beans)</td>\n",
              "      <td>(Cheese)</td>\n",
              "      <td>0.408408</td>\n",
              "      <td>0.404404</td>\n",
              "      <td>0.200200</td>\n",
              "      <td>0.490196</td>\n",
              "      <td>1.212143</td>\n",
              "      <td>0.035038</td>\n",
              "      <td>1.168284</td>\n",
              "    </tr>\n",
              "    <tr>\n",
              "      <th>114</th>\n",
              "      <td>(Corn)</td>\n",
              "      <td>(Kidney Beans)</td>\n",
              "      <td>0.407407</td>\n",
              "      <td>0.408408</td>\n",
              "      <td>0.195195</td>\n",
              "      <td>0.479115</td>\n",
              "      <td>1.173128</td>\n",
              "      <td>0.028807</td>\n",
              "      <td>1.135744</td>\n",
              "    </tr>\n",
              "    <tr>\n",
              "      <th>115</th>\n",
              "      <td>(Kidney Beans)</td>\n",
              "      <td>(Corn)</td>\n",
              "      <td>0.408408</td>\n",
              "      <td>0.407407</td>\n",
              "      <td>0.195195</td>\n",
              "      <td>0.477941</td>\n",
              "      <td>1.173128</td>\n",
              "      <td>0.028807</td>\n",
              "      <td>1.135107</td>\n",
              "    </tr>\n",
              "    <tr>\n",
              "      <th>148</th>\n",
              "      <td>(Dill)</td>\n",
              "      <td>(chocolate)</td>\n",
              "      <td>0.398398</td>\n",
              "      <td>0.421421</td>\n",
              "      <td>0.199199</td>\n",
              "      <td>0.500000</td>\n",
              "      <td>1.186461</td>\n",
              "      <td>0.031306</td>\n",
              "      <td>1.157157</td>\n",
              "    </tr>\n",
              "    <tr>\n",
              "      <th>149</th>\n",
              "      <td>(chocolate)</td>\n",
              "      <td>(Dill)</td>\n",
              "      <td>0.421421</td>\n",
              "      <td>0.398398</td>\n",
              "      <td>0.199199</td>\n",
              "      <td>0.472684</td>\n",
              "      <td>1.186461</td>\n",
              "      <td>0.031306</td>\n",
              "      <td>1.140875</td>\n",
              "    </tr>\n",
              "    <tr>\n",
              "      <th>168</th>\n",
              "      <td>(Ice cream)</td>\n",
              "      <td>(Kidney Beans)</td>\n",
              "      <td>0.410410</td>\n",
              "      <td>0.408408</td>\n",
              "      <td>0.196196</td>\n",
              "      <td>0.478049</td>\n",
              "      <td>1.170516</td>\n",
              "      <td>0.028581</td>\n",
              "      <td>1.133423</td>\n",
              "    </tr>\n",
              "    <tr>\n",
              "      <th>169</th>\n",
              "      <td>(Kidney Beans)</td>\n",
              "      <td>(Ice cream)</td>\n",
              "      <td>0.408408</td>\n",
              "      <td>0.410410</td>\n",
              "      <td>0.196196</td>\n",
              "      <td>0.480392</td>\n",
              "      <td>1.170516</td>\n",
              "      <td>0.028581</td>\n",
              "      <td>1.134682</td>\n",
              "    </tr>\n",
              "    <tr>\n",
              "      <th>176</th>\n",
              "      <td>(Ice cream)</td>\n",
              "      <td>(Sugar)</td>\n",
              "      <td>0.410410</td>\n",
              "      <td>0.409409</td>\n",
              "      <td>0.195195</td>\n",
              "      <td>0.475610</td>\n",
              "      <td>1.161697</td>\n",
              "      <td>0.027169</td>\n",
              "      <td>1.126243</td>\n",
              "    </tr>\n",
              "    <tr>\n",
              "      <th>177</th>\n",
              "      <td>(Sugar)</td>\n",
              "      <td>(Ice cream)</td>\n",
              "      <td>0.409409</td>\n",
              "      <td>0.410410</td>\n",
              "      <td>0.195195</td>\n",
              "      <td>0.476773</td>\n",
              "      <td>1.161697</td>\n",
              "      <td>0.027169</td>\n",
              "      <td>1.126832</td>\n",
              "    </tr>\n",
              "    <tr>\n",
              "      <th>182</th>\n",
              "      <td>(Ice cream)</td>\n",
              "      <td>(chocolate)</td>\n",
              "      <td>0.410410</td>\n",
              "      <td>0.421421</td>\n",
              "      <td>0.202202</td>\n",
              "      <td>0.492683</td>\n",
              "      <td>1.169098</td>\n",
              "      <td>0.029246</td>\n",
              "      <td>1.140467</td>\n",
              "    </tr>\n",
              "    <tr>\n",
              "      <th>183</th>\n",
              "      <td>(chocolate)</td>\n",
              "      <td>(Ice cream)</td>\n",
              "      <td>0.421421</td>\n",
              "      <td>0.410410</td>\n",
              "      <td>0.202202</td>\n",
              "      <td>0.479810</td>\n",
              "      <td>1.169098</td>\n",
              "      <td>0.029246</td>\n",
              "      <td>1.133412</td>\n",
              "    </tr>\n",
              "    <tr>\n",
              "      <th>184</th>\n",
              "      <td>(Milk)</td>\n",
              "      <td>(Kidney Beans)</td>\n",
              "      <td>0.405405</td>\n",
              "      <td>0.408408</td>\n",
              "      <td>0.199199</td>\n",
              "      <td>0.491358</td>\n",
              "      <td>1.203105</td>\n",
              "      <td>0.033628</td>\n",
              "      <td>1.163081</td>\n",
              "    </tr>\n",
              "    <tr>\n",
              "      <th>185</th>\n",
              "      <td>(Kidney Beans)</td>\n",
              "      <td>(Milk)</td>\n",
              "      <td>0.408408</td>\n",
              "      <td>0.405405</td>\n",
              "      <td>0.199199</td>\n",
              "      <td>0.487745</td>\n",
              "      <td>1.203105</td>\n",
              "      <td>0.033628</td>\n",
              "      <td>1.160740</td>\n",
              "    </tr>\n",
              "    <tr>\n",
              "      <th>208</th>\n",
              "      <td>(Milk)</td>\n",
              "      <td>(chocolate)</td>\n",
              "      <td>0.405405</td>\n",
              "      <td>0.421421</td>\n",
              "      <td>0.211211</td>\n",
              "      <td>0.520988</td>\n",
              "      <td>1.236263</td>\n",
              "      <td>0.040365</td>\n",
              "      <td>1.207857</td>\n",
              "    </tr>\n",
              "    <tr>\n",
              "      <th>209</th>\n",
              "      <td>(chocolate)</td>\n",
              "      <td>(Milk)</td>\n",
              "      <td>0.421421</td>\n",
              "      <td>0.405405</td>\n",
              "      <td>0.211211</td>\n",
              "      <td>0.501188</td>\n",
              "      <td>1.236263</td>\n",
              "      <td>0.040365</td>\n",
              "      <td>1.192021</td>\n",
              "    </tr>\n",
              "    <tr>\n",
              "      <th>210</th>\n",
              "      <td>(Onion)</td>\n",
              "      <td>(Nutmeg)</td>\n",
              "      <td>0.403403</td>\n",
              "      <td>0.401401</td>\n",
              "      <td>0.195195</td>\n",
              "      <td>0.483871</td>\n",
              "      <td>1.205454</td>\n",
              "      <td>0.033269</td>\n",
              "      <td>1.159785</td>\n",
              "    </tr>\n",
              "    <tr>\n",
              "      <th>211</th>\n",
              "      <td>(Nutmeg)</td>\n",
              "      <td>(Onion)</td>\n",
              "      <td>0.401401</td>\n",
              "      <td>0.403403</td>\n",
              "      <td>0.195195</td>\n",
              "      <td>0.486284</td>\n",
              "      <td>1.205454</td>\n",
              "      <td>0.033269</td>\n",
              "      <td>1.161336</td>\n",
              "    </tr>\n",
              "    <tr>\n",
              "      <th>226</th>\n",
              "      <td>(Onion)</td>\n",
              "      <td>(chocolate)</td>\n",
              "      <td>0.403403</td>\n",
              "      <td>0.421421</td>\n",
              "      <td>0.196196</td>\n",
              "      <td>0.486352</td>\n",
              "      <td>1.154076</td>\n",
              "      <td>0.026193</td>\n",
              "      <td>1.126411</td>\n",
              "    </tr>\n",
              "    <tr>\n",
              "      <th>227</th>\n",
              "      <td>(chocolate)</td>\n",
              "      <td>(Onion)</td>\n",
              "      <td>0.421421</td>\n",
              "      <td>0.403403</td>\n",
              "      <td>0.196196</td>\n",
              "      <td>0.465558</td>\n",
              "      <td>1.154076</td>\n",
              "      <td>0.026193</td>\n",
              "      <td>1.116299</td>\n",
              "    </tr>\n",
              "    <tr>\n",
              "      <th>238</th>\n",
              "      <td>(chocolate)</td>\n",
              "      <td>(Yogurt)</td>\n",
              "      <td>0.421421</td>\n",
              "      <td>0.420420</td>\n",
              "      <td>0.198198</td>\n",
              "      <td>0.470309</td>\n",
              "      <td>1.118663</td>\n",
              "      <td>0.021024</td>\n",
              "      <td>1.094184</td>\n",
              "    </tr>\n",
              "    <tr>\n",
              "      <th>239</th>\n",
              "      <td>(Yogurt)</td>\n",
              "      <td>(chocolate)</td>\n",
              "      <td>0.420420</td>\n",
              "      <td>0.421421</td>\n",
              "      <td>0.198198</td>\n",
              "      <td>0.471429</td>\n",
              "      <td>1.118663</td>\n",
              "      <td>0.021024</td>\n",
              "      <td>1.094608</td>\n",
              "    </tr>\n",
              "  </tbody>\n",
              "</table>\n",
              "</div>\n",
              "      <button class=\"colab-df-convert\" onclick=\"convertToInteractive('df-01c60f6d-5c33-4e49-848e-d45623b91b5c')\"\n",
              "              title=\"Convert this dataframe to an interactive table.\"\n",
              "              style=\"display:none;\">\n",
              "        \n",
              "  <svg xmlns=\"http://www.w3.org/2000/svg\" height=\"24px\"viewBox=\"0 0 24 24\"\n",
              "       width=\"24px\">\n",
              "    <path d=\"M0 0h24v24H0V0z\" fill=\"none\"/>\n",
              "    <path d=\"M18.56 5.44l.94 2.06.94-2.06 2.06-.94-2.06-.94-.94-2.06-.94 2.06-2.06.94zm-11 1L8.5 8.5l.94-2.06 2.06-.94-2.06-.94L8.5 2.5l-.94 2.06-2.06.94zm10 10l.94 2.06.94-2.06 2.06-.94-2.06-.94-.94-2.06-.94 2.06-2.06.94z\"/><path d=\"M17.41 7.96l-1.37-1.37c-.4-.4-.92-.59-1.43-.59-.52 0-1.04.2-1.43.59L10.3 9.45l-7.72 7.72c-.78.78-.78 2.05 0 2.83L4 21.41c.39.39.9.59 1.41.59.51 0 1.02-.2 1.41-.59l7.78-7.78 2.81-2.81c.8-.78.8-2.07 0-2.86zM5.41 20L4 18.59l7.72-7.72 1.47 1.35L5.41 20z\"/>\n",
              "  </svg>\n",
              "      </button>\n",
              "      \n",
              "  <style>\n",
              "    .colab-df-container {\n",
              "      display:flex;\n",
              "      flex-wrap:wrap;\n",
              "      gap: 12px;\n",
              "    }\n",
              "\n",
              "    .colab-df-convert {\n",
              "      background-color: #E8F0FE;\n",
              "      border: none;\n",
              "      border-radius: 50%;\n",
              "      cursor: pointer;\n",
              "      display: none;\n",
              "      fill: #1967D2;\n",
              "      height: 32px;\n",
              "      padding: 0 0 0 0;\n",
              "      width: 32px;\n",
              "    }\n",
              "\n",
              "    .colab-df-convert:hover {\n",
              "      background-color: #E2EBFA;\n",
              "      box-shadow: 0px 1px 2px rgba(60, 64, 67, 0.3), 0px 1px 3px 1px rgba(60, 64, 67, 0.15);\n",
              "      fill: #174EA6;\n",
              "    }\n",
              "\n",
              "    [theme=dark] .colab-df-convert {\n",
              "      background-color: #3B4455;\n",
              "      fill: #D2E3FC;\n",
              "    }\n",
              "\n",
              "    [theme=dark] .colab-df-convert:hover {\n",
              "      background-color: #434B5C;\n",
              "      box-shadow: 0px 1px 3px 1px rgba(0, 0, 0, 0.15);\n",
              "      filter: drop-shadow(0px 1px 2px rgba(0, 0, 0, 0.3));\n",
              "      fill: #FFFFFF;\n",
              "    }\n",
              "  </style>\n",
              "\n",
              "      <script>\n",
              "        const buttonEl =\n",
              "          document.querySelector('#df-01c60f6d-5c33-4e49-848e-d45623b91b5c button.colab-df-convert');\n",
              "        buttonEl.style.display =\n",
              "          google.colab.kernel.accessAllowed ? 'block' : 'none';\n",
              "\n",
              "        async function convertToInteractive(key) {\n",
              "          const element = document.querySelector('#df-01c60f6d-5c33-4e49-848e-d45623b91b5c');\n",
              "          const dataTable =\n",
              "            await google.colab.kernel.invokeFunction('convertToInteractive',\n",
              "                                                     [key], {});\n",
              "          if (!dataTable) return;\n",
              "\n",
              "          const docLinkHtml = 'Like what you see? Visit the ' +\n",
              "            '<a target=\"_blank\" href=https://colab.research.google.com/notebooks/data_table.ipynb>data table notebook</a>'\n",
              "            + ' to learn more about interactive tables.';\n",
              "          element.innerHTML = '';\n",
              "          dataTable['output_type'] = 'display_data';\n",
              "          await google.colab.output.renderOutput(dataTable, element);\n",
              "          const docLink = document.createElement('div');\n",
              "          docLink.innerHTML = docLinkHtml;\n",
              "          element.appendChild(docLink);\n",
              "        }\n",
              "      </script>\n",
              "    </div>\n",
              "  </div>\n",
              "  "
            ],
            "text/plain": [
              "        antecedents     consequents  ...  leverage  conviction\n",
              "66      (Ice cream)        (Butter)  ...  0.034662    1.170579\n",
              "67         (Butter)     (Ice cream)  ...  0.034662    1.162571\n",
              "68   (Kidney Beans)        (Butter)  ...  0.030499    1.147905\n",
              "69         (Butter)  (Kidney Beans)  ...  0.030499    1.139764\n",
              "70           (Milk)        (Butter)  ...  0.027757    1.133960\n",
              "71         (Butter)          (Milk)  ...  0.027757    1.124909\n",
              "72         (Nutmeg)        (Butter)  ...  0.029441    1.144884\n",
              "73         (Butter)        (Nutmeg)  ...  0.029441    1.132484\n",
              "74          (Onion)        (Butter)  ...  0.027598    1.133838\n",
              "75         (Butter)         (Onion)  ...  0.027598    1.123635\n",
              "76          (Sugar)        (Butter)  ...  0.024072    1.112902\n",
              "77         (Butter)         (Sugar)  ...  0.024072    1.107357\n",
              "82      (chocolate)        (Butter)  ...  0.025028    1.114169\n",
              "83         (Butter)     (chocolate)  ...  0.025028    1.114693\n",
              "92         (Cheese)  (Kidney Beans)  ...  0.035038    1.171583\n",
              "93   (Kidney Beans)        (Cheese)  ...  0.035038    1.168284\n",
              "114          (Corn)  (Kidney Beans)  ...  0.028807    1.135744\n",
              "115  (Kidney Beans)          (Corn)  ...  0.028807    1.135107\n",
              "148          (Dill)     (chocolate)  ...  0.031306    1.157157\n",
              "149     (chocolate)          (Dill)  ...  0.031306    1.140875\n",
              "168     (Ice cream)  (Kidney Beans)  ...  0.028581    1.133423\n",
              "169  (Kidney Beans)     (Ice cream)  ...  0.028581    1.134682\n",
              "176     (Ice cream)         (Sugar)  ...  0.027169    1.126243\n",
              "177         (Sugar)     (Ice cream)  ...  0.027169    1.126832\n",
              "182     (Ice cream)     (chocolate)  ...  0.029246    1.140467\n",
              "183     (chocolate)     (Ice cream)  ...  0.029246    1.133412\n",
              "184          (Milk)  (Kidney Beans)  ...  0.033628    1.163081\n",
              "185  (Kidney Beans)          (Milk)  ...  0.033628    1.160740\n",
              "208          (Milk)     (chocolate)  ...  0.040365    1.207857\n",
              "209     (chocolate)          (Milk)  ...  0.040365    1.192021\n",
              "210         (Onion)        (Nutmeg)  ...  0.033269    1.159785\n",
              "211        (Nutmeg)         (Onion)  ...  0.033269    1.161336\n",
              "226         (Onion)     (chocolate)  ...  0.026193    1.126411\n",
              "227     (chocolate)         (Onion)  ...  0.026193    1.116299\n",
              "238     (chocolate)        (Yogurt)  ...  0.021024    1.094184\n",
              "239        (Yogurt)     (chocolate)  ...  0.021024    1.094608\n",
              "\n",
              "[36 rows x 9 columns]"
            ]
          },
          "metadata": {},
          "execution_count": 27
        }
      ]
    },
    {
      "cell_type": "code",
      "source": [
        "def rules_to_coordinates(rules):\n",
        "    rules['antecedent'] = rules['antecedents'].apply(lambda antecedent:list(antecedent)[0])\n",
        "    rules['consequent'] = rules['consequents'].apply(lambda consequent:list(consequent)[0])\n",
        "    rules['rule'] = rules.index\n",
        "    return rules[['antecedent','consequent','rule']]"
      ],
      "metadata": {
        "id": "wQF8bnUff2KT"
      },
      "execution_count": 28,
      "outputs": []
    },
    {
      "cell_type": "markdown",
      "source": [
        "***Convertir reglas en coordenadas adecuadas para su uso en una gráfica de coordenadas paralelas***"
      ],
      "metadata": {
        "id": "n58rBzLmf7MZ"
      }
    },
    {
      "cell_type": "code",
      "source": [
        "coords = rules_to_coordinates(filtered_rules)"
      ],
      "metadata": {
        "id": "KW5GzKJSf9Z-"
      },
      "execution_count": 29,
      "outputs": []
    },
    {
      "cell_type": "markdown",
      "source": [
        "***Generar gráfico de coordenadas paralelas***"
      ],
      "metadata": {
        "id": "aPCEImHtgDKO"
      }
    },
    {
      "cell_type": "code",
      "source": [
        "plt.figure(figsize=(3,6))\n",
        "parallel_coordinates(coords, 'rule',colormap = 'ocean')\n",
        "plt.legend([])\n",
        "plt.show()"
      ],
      "metadata": {
        "colab": {
          "base_uri": "https://localhost:8080/",
          "height": 373
        },
        "id": "bGg84MIgf_r-",
        "outputId": "9e947ae7-13dd-43e5-f9a8-f3faab0e6479"
      },
      "execution_count": 30,
      "outputs": [
        {
          "output_type": "display_data",
          "data": {
            "image/png": "[encoded data removed]",
            "text/plain": [
              "<Figure size 216x432 with 1 Axes>"
            ]
          },
          "metadata": {
            "needs_background": "light"
          }
        }
      ]
    },
    {
      "cell_type": "markdown",
      "source": [
        "Desde el gráfico parece que la mantequilla se puede usar como venta cruzada con otros productos, también actúa como algo a ofrecer con antecedentes que es bajo. Así, es más probable que los clientes las compren si la mantequilla se les ofrece a un precio más económico si compran los antecedentes que se vendieron menos en una tienda."
      ],
      "metadata": {
        "id": "E5wL5m01gWgF"
      }
    }
  ]
}